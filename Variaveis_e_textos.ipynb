{
  "nbformat": 4,
  "nbformat_minor": 0,
  "metadata": {
    "colab": {
      "provenance": [],
      "authorship_tag": "ABX9TyNmfHBySoaanvfXg+oejRoF",
      "include_colab_link": true
    },
    "kernelspec": {
      "name": "python3",
      "display_name": "Python 3"
    },
    "language_info": {
      "name": "python"
    }
  },
  "cells": [
    {
      "cell_type": "markdown",
      "metadata": {
        "id": "view-in-github",
        "colab_type": "text"
      },
      "source": [
        "<a href=\"https://colab.research.google.com/github/ricardoricco86/logica-programacao/blob/main/Variaveis_e_textos.ipynb\" target=\"_parent\"><img src=\"https://colab.research.google.com/assets/colab-badge.svg\" alt=\"Open In Colab\"/></a>"
      ]
    },
    {
      "cell_type": "markdown",
      "source": [
        "# visualização de variaveis e textos"
      ],
      "metadata": {
        "id": "owCIavWlEDNj"
      }
    },
    {
      "cell_type": "code",
      "execution_count": null,
      "metadata": {
        "colab": {
          "base_uri": "https://localhost:8080/"
        },
        "id": "eHiwfBl9D-OF",
        "outputId": "ebd65390-2a3f-480a-ffba-f9e8c5042546"
      },
      "outputs": [
        {
          "output_type": "stream",
          "name": "stdout",
          "text": [
            "conhecendo o comando Print\n",
            "8\n"
          ]
        }
      ],
      "source": [
        "print ('conhecendo o comando Print')\n",
        "\n",
        "x = 8\n",
        "print (x)"
      ]
    },
    {
      "cell_type": "code",
      "source": [
        "y = 10\n",
        "soma = x + y\n",
        "print (soma)"
      ],
      "metadata": {
        "colab": {
          "base_uri": "https://localhost:8080/"
        },
        "id": "5tbkxAd8E8ZG",
        "outputId": "e80553ef-eae3-4ef8-8c34-2cc1e2803d5e"
      },
      "execution_count": null,
      "outputs": [
        {
          "output_type": "stream",
          "name": "stdout",
          "text": [
            "18\n"
          ]
        }
      ]
    },
    {
      "cell_type": "code",
      "source": [
        "nome = 'rodrigo reboucas'\n",
        "print (nome)"
      ],
      "metadata": {
        "colab": {
          "base_uri": "https://localhost:8080/"
        },
        "id": "Y4qQAOZdFGKP",
        "outputId": "b6de7ab5-b300-4ca5-d5a9-58da337cec5a"
      },
      "execution_count": null,
      "outputs": [
        {
          "output_type": "stream",
          "name": "stdout",
          "text": [
            "rodrigo reboucas\n"
          ]
        }
      ]
    },
    {
      "cell_type": "markdown",
      "source": [
        "Concatenação"
      ],
      "metadata": {
        "id": "4UgxwURYFTe-"
      }
    },
    {
      "cell_type": "code",
      "source": [
        "x = 5\n",
        "print ('o valor de x é ', x)"
      ],
      "metadata": {
        "colab": {
          "base_uri": "https://localhost:8080/"
        },
        "id": "8HNY0RsVFU5g",
        "outputId": "81210955-7f32-438f-88e8-50467b517b05"
      },
      "execution_count": null,
      "outputs": [
        {
          "output_type": "stream",
          "name": "stdout",
          "text": [
            "o valor de x é  5\n"
          ]
        }
      ]
    },
    {
      "cell_type": "code",
      "source": [
        "x = 5\n",
        "print ('o valor de x é ', x, 'e o dobro é', x * 2)"
      ],
      "metadata": {
        "colab": {
          "base_uri": "https://localhost:8080/"
        },
        "id": "Vy6R9yGYFuyb",
        "outputId": "065a4521-1db6-46e2-e815-b27ad9ac46fe"
      },
      "execution_count": null,
      "outputs": [
        {
          "output_type": "stream",
          "name": "stdout",
          "text": [
            "o valor de x é  5 e o dobro é 10\n"
          ]
        }
      ]
    },
    {
      "cell_type": "code",
      "source": [
        "print ('eu', nome , 'tirei', x, 'na prova de python')"
      ],
      "metadata": {
        "colab": {
          "base_uri": "https://localhost:8080/"
        },
        "id": "bt3JzaHYGZoi",
        "outputId": "058d9a0f-af03-4444-b8d0-fef2d683dcde"
      },
      "execution_count": null,
      "outputs": [
        {
          "output_type": "stream",
          "name": "stdout",
          "text": [
            "eu rodrigo reboucas tirei 5 na prova de python\n"
          ]
        }
      ]
    },
    {
      "cell_type": "code",
      "source": [
        "y = 10; z = 20 + x - y\n",
        "print ('declarar varias variaveis na mesma linha', y,z)"
      ],
      "metadata": {
        "colab": {
          "base_uri": "https://localhost:8080/"
        },
        "id": "a2ZQlXPLHOgs",
        "outputId": "13d86c61-956e-4c7d-a140-9978d668f005"
      },
      "execution_count": null,
      "outputs": [
        {
          "output_type": "stream",
          "name": "stdout",
          "text": [
            "declarar varias variaveis na mesma linha 10 15\n"
          ]
        }
      ]
    },
    {
      "cell_type": "markdown",
      "source": [
        "Type"
      ],
      "metadata": {
        "id": "Z8LdHs2tIR3A"
      }
    },
    {
      "cell_type": "code",
      "source": [
        "x = 10\n",
        "type (x)\n",
        "print('x', type(x))\n",
        "\n",
        "nome = 'Rodrigo'\n",
        "print ('nome', type(nome))\n",
        "\n",
        "num = '100'\n",
        "num_convert = int(num) # converter variavel\n",
        "print ('num', type(num))\n",
        "print ('num_conver', type(num_convert))\n",
        "\n",
        "num_float = float(num)\n",
        "print ('num_float', num_float)\n",
        "\n",
        "\n",
        "\n",
        "i"
      ],
      "metadata": {
        "colab": {
          "base_uri": "https://localhost:8080/"
        },
        "id": "IeeM70PwHtVM",
        "outputId": "3581e299-8906-47c6-f311-9f263b39e269"
      },
      "execution_count": null,
      "outputs": [
        {
          "output_type": "stream",
          "name": "stdout",
          "text": [
            "x <class 'int'>\n",
            "nome <class 'str'>\n",
            "num <class 'str'>\n",
            "num_conver <class 'int'>\n",
            "num_float 100.0\n"
          ]
        }
      ]
    },
    {
      "cell_type": "markdown",
      "source": [
        "#Input\n",
        "\n",
        "\n",
        "*   armazenar a informação digitada pelo usuario\n",
        "*   o dado armazenado sempre será um texto\n",
        "\n"
      ],
      "metadata": {
        "id": "iViSCX_RJ7gL"
      }
    },
    {
      "cell_type": "markdown",
      "source": [],
      "metadata": {
        "id": "HWLq5otFJ7JQ"
      }
    },
    {
      "cell_type": "code",
      "source": [
        "nome = input('digite o nome do usuario') #aguardar o usuario digitar algo\n",
        "print(nome)\n"
      ],
      "metadata": {
        "colab": {
          "base_uri": "https://localhost:8080/"
        },
        "id": "17EfuH6lKJjr",
        "outputId": "4773a97c-5baa-47e7-c48b-10e6f94c4ebc"
      },
      "execution_count": 6,
      "outputs": [
        {
          "output_type": "stream",
          "name": "stdout",
          "text": [
            "digite o nome do usuarioRicardo\n",
            "Ricardo\n"
          ]
        }
      ]
    },
    {
      "cell_type": "code",
      "source": [
        "nota = input('digitar a nota')\n",
        "\n",
        "print(nome, 'sua nota foi', 7)\n"
      ],
      "metadata": {
        "colab": {
          "base_uri": "https://localhost:8080/"
        },
        "id": "-u-tctlILY5q",
        "outputId": "80a353a1-5032-4b5c-c013-a7d721041ec3"
      },
      "execution_count": 7,
      "outputs": [
        {
          "output_type": "stream",
          "name": "stdout",
          "text": [
            "digitar a nota7\n",
            "Ricardo sua nota foi 7\n"
          ]
        }
      ]
    },
    {
      "cell_type": "code",
      "source": [
        "Valor = input('o valor do produto:')\n",
        "print(Valor)"
      ],
      "metadata": {
        "colab": {
          "base_uri": "https://localhost:8080/"
        },
        "id": "RM-cAQv-NO2r",
        "outputId": "3a5fe88f-347d-4f5b-fec0-ce57b73d9b44"
      },
      "execution_count": null,
      "outputs": [
        {
          "output_type": "stream",
          "name": "stdout",
          "text": [
            "o valor do produto:100\n",
            "100\n"
          ]
        }
      ]
    },
    {
      "cell_type": "code",
      "source": [
        "valor_convert = int(Valor)\n",
        "desconto = valor_convert - 5\n",
        "print(desconto)"
      ],
      "metadata": {
        "colab": {
          "base_uri": "https://localhost:8080/"
        },
        "id": "36vGpymBN5O-",
        "outputId": "db7389bd-1d46-4bd8-930a-a15d1a84dfde"
      },
      "execution_count": null,
      "outputs": [
        {
          "output_type": "stream",
          "name": "stdout",
          "text": [
            "95\n"
          ]
        }
      ]
    },
    {
      "cell_type": "code",
      "source": [
        "desconto - int(Valor) - 5\n",
        "print(desconto)"
      ],
      "metadata": {
        "colab": {
          "base_uri": "https://localhost:8080/"
        },
        "id": "313Jw7SvOc1a",
        "outputId": "911920bd-fc51-443b-fbea-a9d30a7d39b7"
      },
      "execution_count": null,
      "outputs": [
        {
          "output_type": "stream",
          "name": "stdout",
          "text": [
            "95\n"
          ]
        }
      ]
    }
  ]
}