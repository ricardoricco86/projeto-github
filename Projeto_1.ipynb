{
  "nbformat": 4,
  "nbformat_minor": 0,
  "metadata": {
    "colab": {
      "provenance": [],
      "toc_visible": true,
      "authorship_tag": "ABX9TyPXE6WorfhYzIBEKQkMctRv",
      "include_colab_link": true
    },
    "kernelspec": {
      "name": "python3",
      "display_name": "Python 3"
    },
    "language_info": {
      "name": "python"
    }
  },
  "cells": [
    {
      "cell_type": "markdown",
      "metadata": {
        "id": "view-in-github",
        "colab_type": "text"
      },
      "source": [
        "<a href=\"https://colab.research.google.com/github/ricardoricco86/projeto-github/blob/main/Projeto_1.ipynb\" target=\"_parent\"><img src=\"https://colab.research.google.com/assets/colab-badge.svg\" alt=\"Open In Colab\"/></a>"
      ]
    },
    {
      "cell_type": "markdown",
      "source": [
        "#Projeto 1"
      ],
      "metadata": {
        "id": "zg_918RVKaAe"
      }
    },
    {
      "cell_type": "code",
      "source": [],
      "metadata": {
        "id": "lm58e2Nm9Kli"
      },
      "execution_count": null,
      "outputs": []
    },
    {
      "cell_type": "code",
      "source": [],
      "metadata": {
        "id": "BN-NZWc79KoP"
      },
      "execution_count": null,
      "outputs": []
    },
    {
      "cell_type": "code",
      "execution_count": null,
      "metadata": {
        "id": "ZHVOaH8NKDxU"
      },
      "outputs": [],
      "source": [
        "# entrada de usuario"
      ]
    },
    {
      "cell_type": "code",
      "source": [
        "#definir entrada de usuario\n",
        "entrada_permitida = 38"
      ],
      "metadata": {
        "id": "1pfpoNM7KivF"
      },
      "execution_count": null,
      "outputs": []
    },
    {
      "cell_type": "code",
      "source": [
        "#digite a entrada do usuario\n",
        "entrada_usuario = int(input(\"Digite a entrada do usuario: \"))\n"
      ],
      "metadata": {
        "colab": {
          "base_uri": "https://localhost:8080/"
        },
        "id": "_KoDWlrvK9WX",
        "outputId": "d9bff860-820c-41fd-e691-f93085004205"
      },
      "execution_count": null,
      "outputs": [
        {
          "name": "stdout",
          "output_type": "stream",
          "text": [
            "Digite a entrada do usuario: 38\n"
          ]
        }
      ]
    },
    {
      "cell_type": "code",
      "source": [
        "if entrada_usuario == entrada_permitida:\n",
        "  print(\"Entrada permitida\")\n",
        "else:\n",
        "  print(\"Entrada não permitida\")"
      ],
      "metadata": {
        "colab": {
          "base_uri": "https://localhost:8080/"
        },
        "id": "mlDLBR9_LTUH",
        "outputId": "bbb5c71a-17ce-46a5-9e8a-315927a9afaf"
      },
      "execution_count": null,
      "outputs": [
        {
          "output_type": "stream",
          "name": "stdout",
          "text": [
            "Entrada permitida\n"
          ]
        }
      ]
    },
    {
      "cell_type": "markdown",
      "source": [
        "#calculadora\n"
      ],
      "metadata": {
        "id": "VUAxBB5_NdCk"
      }
    },
    {
      "cell_type": "code",
      "source": [
        "def calculadora():\n",
        "    print(\"Calculadora\")\n",
        "    operacao = input(\"Escolha uma operação (+, -, *, /): \")\n",
        "    num1 = int(input(\"Digite o primeiro número: \"))\n",
        "    num2 = int(input(\"Digite o segundo número: \"))\n",
        "\n",
        "    # funçoes aritmeticas\n",
        "    def adicao(x, y):\n",
        "        return x + y\n",
        "\n",
        "    def subtracao(x, y):\n",
        "        return x - y\n",
        "\n",
        "    def multiplicacao(x, y):\n",
        "        return x * y\n",
        "\n",
        "    def divisao(x, y):\n",
        "        if y == 0:\n",
        "            return \"Divisão por zero!\"\n",
        "        else:\n",
        "            return x / y\n",
        "\n",
        "    if operacao == \"+\":\n",
        "        resultado = adicao(num1, num2)\n",
        "        print(\"O resultado da adição é:\", resultado)\n",
        "    elif operacao == \"-\":\n",
        "        resultado = subtracao(num1, num2)\n",
        "        print(\"O resultado da subtração é:\", resultado)\n",
        "    elif operacao == \"*\":\n",
        "        resultado = multiplicacao(num1, num2)\n",
        "        print(\"O resultado da multiplicação é:\", resultado)\n",
        "    elif operacao == \"/\":\n",
        "        resultado = divisao(num1, num2)\n",
        "        print(\"O resultado da divisão é:\", resultado)\n",
        "    else:\n",
        "        print(\"Operação inválida!\")\n",
        "\n",
        "calculadora()"
      ],
      "metadata": {
        "colab": {
          "base_uri": "https://localhost:8080/"
        },
        "id": "pX6C69i1NfjR",
        "outputId": "484d49ce-b983-4d85-8750-193d1c6fa475"
      },
      "execution_count": null,
      "outputs": [
        {
          "output_type": "stream",
          "name": "stdout",
          "text": [
            "Calculadora\n",
            "Escolha uma operação (+, -, *, /): 20\n",
            "Digite o primeiro número: 2\n",
            "Digite o segundo número: 2\n",
            "Operação inválida!\n"
          ]
        }
      ]
    }
  ]
}